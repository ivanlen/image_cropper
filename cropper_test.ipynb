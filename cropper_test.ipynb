{
 "cells": [
  {
   "cell_type": "code",
   "execution_count": 29,
   "metadata": {},
   "outputs": [
    {
     "name": "stdout",
     "output_type": "stream",
     "text": [
      "The autoreload extension is already loaded. To reload it, use:\n",
      "  %reload_ext autoreload\n"
     ]
    }
   ],
   "source": [
    "%load_ext autoreload\n",
    "%autoreload 2\n",
    "%matplotlib notebook"
   ]
  },
  {
   "cell_type": "code",
   "execution_count": 30,
   "metadata": {},
   "outputs": [],
   "source": [
    "from PIL import Image\n",
    "import matplotlib.pyplot as plt\n",
    "import os\n",
    "from cropping_functions import *\n",
    "import numpy as np"
   ]
  },
  {
   "cell_type": "code",
   "execution_count": 31,
   "metadata": {},
   "outputs": [],
   "source": [
    "from PIL.ImageOps import flip, mirror\n",
    "import PIL"
   ]
  },
  {
   "cell_type": "code",
   "execution_count": 32,
   "metadata": {},
   "outputs": [],
   "source": [
    "folder_to_scan = '/Users/ivanlengyel/datasets/mars/'"
   ]
  },
  {
   "cell_type": "code",
   "execution_count": 33,
   "metadata": {},
   "outputs": [],
   "source": [
    "files = os.listdir(folder_to_scan)"
   ]
  },
  {
   "cell_type": "code",
   "execution_count": 34,
   "metadata": {},
   "outputs": [
    {
     "data": {
      "text/plain": [
       "208"
      ]
     },
     "execution_count": 34,
     "metadata": {},
     "output_type": "execute_result"
    }
   ],
   "source": [
    "len(files)"
   ]
  },
  {
   "cell_type": "code",
   "execution_count": 35,
   "metadata": {},
   "outputs": [],
   "source": [
    "valid_file_types = ['.jpg']\n",
    "valid_files = []\n",
    "for file in files:\n",
    "    f, fe = os.path.splitext(file)\n",
    "    if fe in valid_file_types:\n",
    "        valid_files.append(file)\n",
    "\n",
    "full_path_valid_files = [folder_to_scan+file for file in valid_files]\n"
   ]
  },
  {
   "cell_type": "code",
   "execution_count": 36,
   "metadata": {},
   "outputs": [],
   "source": [
    "cropping_window = 512\n",
    "saving_folder_name = './cropped_files/'\n",
    "padding_tresh = 0.25\n",
    "\n",
    "resize = True\n",
    "image_output_size = 128"
   ]
  },
  {
   "cell_type": "code",
   "execution_count": 37,
   "metadata": {},
   "outputs": [],
   "source": [
    "def image_square_resize(im_input, new_size):\n",
    "    im = im_input.copy()\n",
    "    im = im.resize((new_size, new_size), PIL.Image.ANTIALIAS)    \n",
    "    \n",
    "    return im"
   ]
  },
  {
   "cell_type": "code",
   "execution_count": 38,
   "metadata": {},
   "outputs": [],
   "source": [
    "def image_shifter(im_input, left_shift, bottom_shift):\n",
    "        shift_box = (left_shift, bottom_shift ,im_input.size[0], im_input.size[1])\n",
    "        return im_input.crop(shift_box)"
   ]
  },
  {
   "cell_type": "code",
   "execution_count": 39,
   "metadata": {},
   "outputs": [],
   "source": [
    "def image_rotater(im_input, angle):\n",
    "    if angle==90:\n",
    "        return im_input.transpose(Image.ROTATE_90) \n",
    "    elif angle == 180:\n",
    "        return im_input.transpose(Image.ROTATE_180) \n",
    "    elif angle == 270:\n",
    "        return im_input.transpose(Image.ROTATE_270) \n",
    "    else:\n",
    "        raise ValueError('No agle supported')"
   ]
  },
  {
   "cell_type": "code",
   "execution_count": 40,
   "metadata": {},
   "outputs": [],
   "source": [
    "def image_augmentator(im_input, return_orig = True):\n",
    "    im_aug = []\n",
    "    if return_orig:\n",
    "        im_aug.append(im_input.copy())\n",
    "    # 1.FLIP\n",
    "    im_temp = im_input.copy()\n",
    "    im_aug.append(flip(im_temp))\n",
    "    # 2. rot 180\n",
    "    im_temp = im_input.copy()\n",
    "    im_aug.append(image_rotater(im_temp, 180))\n",
    "    # 3. Flip(rot_90)\n",
    "    im_temp = im_input.copy()\n",
    "    im_aug.append(flip(image_rotater(im_temp, 90)))\n",
    "    # 4. (flip(rot_270))\n",
    "    im_temp = im_input.copy()\n",
    "    im_aug.append(flip(image_rotater(im_temp, 270)))\n",
    "    return im_aug"
   ]
  },
  {
   "cell_type": "markdown",
   "metadata": {},
   "source": [
    "### No augmentation"
   ]
  },
  {
   "cell_type": "code",
   "execution_count": null,
   "metadata": {},
   "outputs": [],
   "source": [
    "for file in full_path_valid_files[:2]:\n",
    "#for file in full_path_valid_files:    \n",
    "    # load file\n",
    "    im = Image.open(file)\n",
    "    # generate cropping boxes for file\n",
    "    croping_boxes = generate_cropping_boxes(im, cropping_window, padding_tresh) \n",
    "    \n",
    "    file_name = os.path.basename(file)\n",
    "    base_name, file_ext = os.path.splitext(file_name)\n",
    "    for i,b in enumerate(croping_boxes):\n",
    "        imc = im.crop(b) #left bottom right upper\n",
    "        if resize: \n",
    "            imc = image_square_resize(imc,image_output_size )\n",
    "        f_name = saving_folder_name + base_name +'_{}_'.format(i) + file_ext\n",
    "        imc.save(f_name)\n",
    "    \n",
    "    \n",
    "    "
   ]
  },
  {
   "cell_type": "markdown",
   "metadata": {},
   "source": [
    "### Aumentation"
   ]
  },
  {
   "cell_type": "code",
   "execution_count": 41,
   "metadata": {},
   "outputs": [],
   "source": [
    "#for file in full_path_valid_files[:1]:\n",
    "for file in full_path_valid_files[::-1]:    \n",
    "    # load file\n",
    "    im = Image.open(file)\n",
    "    for ia, im in enumerate(image_augmentator(im)):\n",
    "        # generate cropping boxes for file\n",
    "        croping_boxes = generate_cropping_boxes(im, cropping_window, padding_tresh) \n",
    "\n",
    "        file_name = os.path.basename(file)\n",
    "        base_name, file_ext = os.path.splitext(file_name)\n",
    "        for i,b in enumerate(croping_boxes):\n",
    "            imc = im.crop(b) #left bottom right upper\n",
    "            if resize: \n",
    "                imc = image_square_resize(imc,image_output_size )\n",
    "            f_name = saving_folder_name + base_name +'_{}_{}_'.format(ia,i) + file_ext\n",
    "            imc.save(f_name)\n",
    "    \n",
    "    \n",
    "    "
   ]
  },
  {
   "cell_type": "markdown",
   "metadata": {},
   "source": [
    "# Test image"
   ]
  },
  {
   "cell_type": "code",
   "execution_count": null,
   "metadata": {},
   "outputs": [],
   "source": [
    "im = Image.open('./test_image-1-01.png')"
   ]
  },
  {
   "cell_type": "markdown",
   "metadata": {},
   "source": [
    "### Augmentator"
   ]
  },
  {
   "cell_type": "code",
   "execution_count": null,
   "metadata": {},
   "outputs": [],
   "source": [
    "augs = image_augment(im)\n",
    "plt.figure(figsize=(8,8))\n",
    "imagess = augs\n",
    "for i,imm in enumerate(imagess):\n",
    "    plt.subplot(2,3,i+1)\n",
    "    plt.imshow(imm)"
   ]
  },
  {
   "cell_type": "markdown",
   "metadata": {},
   "source": [
    "### Mirror image"
   ]
  },
  {
   "cell_type": "code",
   "execution_count": null,
   "metadata": {},
   "outputs": [],
   "source": [
    "plt.figure(figsize=(8,8))\n",
    "#\n",
    "plt.subplot(3,3,1)\n",
    "plt.title('orig.')\n",
    "plt.imshow(im)\n",
    "#\n",
    "plt.subplot(3,3,2)\n",
    "plt.title('flipped')\n",
    "temp_flip = flip(im)\n",
    "plt.imshow(temp_flip)\n",
    "#\n",
    "plt.subplot(3,3,3)\n",
    "plt.imshow((image_rotater(im, 180)))\n",
    "plt.title('rotate,180')\n",
    "#\n",
    "plt.subplot(3,3,4)\n",
    "plt.imshow(image_rotater(mirror(im), 180))\n",
    "plt.title('rot(mirr,180)')\n",
    "#\n",
    "plt.subplot(3,3,5)\n",
    "plt.imshow(image_rotater(temp_flip, 180))\n",
    "plt.title('rot(flip,180)')\n",
    "#\n",
    "plt.subplot(3,3,6)\n",
    "plt.imshow(flip(image_rotater(im, 180)))\n",
    "plt.title('flip(rot)')\n",
    "#\n",
    "plt.subplot(3,3,7)\n",
    "plt.imshow(flip(image_rotater(im, 90)))\n",
    "plt.title('flip(rot,90)')\n",
    "#\n",
    "plt.subplot(3,3,8)\n",
    "plt.imshow(flip(image_rotater(im, 270)))\n",
    "plt.title('flip(rot270)')"
   ]
  },
  {
   "cell_type": "markdown",
   "metadata": {},
   "source": [
    "### Shift"
   ]
  },
  {
   "cell_type": "code",
   "execution_count": null,
   "metadata": {},
   "outputs": [],
   "source": [
    "im.size"
   ]
  },
  {
   "cell_type": "code",
   "execution_count": null,
   "metadata": {},
   "outputs": [],
   "source": [
    "croping_boxes"
   ]
  },
  {
   "cell_type": "code",
   "execution_count": null,
   "metadata": {},
   "outputs": [],
   "source": [
    "#shift_box = (256, 256 ,im.size[0], im.size[1])\n",
    "#ims = im.crop(shift_box)\n",
    "ims = image_shifter(im, 1000, 256)"
   ]
  },
  {
   "cell_type": "code",
   "execution_count": null,
   "metadata": {},
   "outputs": [],
   "source": [
    "plt.figure()\n",
    "plt.imshow(im)\n",
    "plt.figure()\n",
    "plt.imshow(ims)"
   ]
  },
  {
   "cell_type": "markdown",
   "metadata": {},
   "source": [
    "### Rotate"
   ]
  },
  {
   "cell_type": "code",
   "execution_count": null,
   "metadata": {},
   "outputs": [],
   "source": [
    "plt.figure()\n",
    "plt.imshow(im)"
   ]
  },
  {
   "cell_type": "code",
   "execution_count": null,
   "metadata": {},
   "outputs": [],
   "source": [
    "imr = im.transpose(Image.ROTATE_180) \n",
    "plt.figure()\n",
    "plt.imshow(imr)"
   ]
  },
  {
   "cell_type": "markdown",
   "metadata": {},
   "source": [
    "### Shift the size"
   ]
  },
  {
   "cell_type": "code",
   "execution_count": null,
   "metadata": {},
   "outputs": [],
   "source": []
  }
 ],
 "metadata": {
  "kernelspec": {
   "display_name": "testing-kernel",
   "language": "python",
   "name": "testing-kernel"
  },
  "language_info": {
   "codemirror_mode": {
    "name": "ipython",
    "version": 3
   },
   "file_extension": ".py",
   "mimetype": "text/x-python",
   "name": "python",
   "nbconvert_exporter": "python",
   "pygments_lexer": "ipython3",
   "version": "3.6.7"
  }
 },
 "nbformat": 4,
 "nbformat_minor": 2
}
